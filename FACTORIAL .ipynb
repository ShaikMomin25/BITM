{
 "cells": [
  {
   "cell_type": "code",
   "execution_count": 8,
   "id": "445fa6f5-81ca-4cb4-901a-10a0fecd73da",
   "metadata": {},
   "outputs": [
    {
     "name": "stdin",
     "output_type": "stream",
     "text": [
      " 145\n"
     ]
    },
    {
     "name": "stdout",
     "output_type": "stream",
     "text": [
      "strong number\n"
     ]
    }
   ],
   "source": [
    "n=int(input())\n",
    "original=n\n",
    "sum=0\n",
    "while(n>0):\n",
    "    m=n%10\n",
    "    c=1\n",
    "    while(m>1):\n",
    "        c=c*m\n",
    "        m=m-1\n",
    "    sum=sum+c\n",
    "    n=n//10\n",
    "if(original==sum):\n",
    "    print(\"strong number\")\n",
    "else:\n",
    "    print(\"not a strong number\")"
   ]
  },
  {
   "cell_type": "code",
   "execution_count": 1,
   "id": "de881f06-df98-4250-ac42-a094faccc3b1",
   "metadata": {},
   "outputs": [
    {
     "name": "stdin",
     "output_type": "stream",
     "text": [
      " 6\n"
     ]
    },
    {
     "name": "stdout",
     "output_type": "stream",
     "text": [
      "6\n",
      "30\n",
      "120\n",
      "360\n",
      "720\n"
     ]
    }
   ],
   "source": [
    "m=int(input())\n",
    "c=1\n",
    "while(m>1):\n",
    "    c=c*m\n",
    "    m=m-1\n",
    "    sum=m+c\n",
    "    print(c)\n"
   ]
  },
  {
   "cell_type": "code",
   "execution_count": 1,
   "id": "767fa258-07c7-479e-9589-7e5dc46deea3",
   "metadata": {},
   "outputs": [
    {
     "name": "stdin",
     "output_type": "stream",
     "text": [
      " 15\n"
     ]
    },
    {
     "name": "stdout",
     "output_type": "stream",
     "text": [
      "0\n",
      "1\n",
      "1\n",
      "2\n",
      "3\n",
      "5\n",
      "8\n",
      "13\n",
      "21\n",
      "34\n",
      "55\n",
      "89\n",
      "144\n",
      "233\n",
      "377\n",
      "610\n",
      "987\n",
      "1597\n"
     ]
    }
   ],
   "source": [
    "n=int(input())\n",
    "a=0\n",
    "b=1\n",
    "sum=0\n",
    "c=0\n",
    "print(a)\n",
    "print(b)\n",
    "while(c<=n):\n",
    "    c=c+1\n",
    "    sum=a+b\n",
    "    a=b\n",
    "    b=sum\n",
    "    print(sum)"
   ]
  },
  {
   "cell_type": "code",
   "execution_count": 2,
   "id": "10a4cce5-a034-48b7-9c14-515e3cfe4de4",
   "metadata": {},
   "outputs": [
    {
     "name": "stdin",
     "output_type": "stream",
     "text": [
      " 2004\n"
     ]
    },
    {
     "name": "stdout",
     "output_type": "stream",
     "text": [
      "2004  is a leap year\n"
     ]
    }
   ],
   "source": [
    "year=int(input())\n",
    "if((year%4==0 and year%100!=0) or (year%400==0)):\n",
    "    print(year,\" is a leap year\")\n",
    "else:\n",
    "    print(year,\" is not a leap year\")"
   ]
  },
  {
   "cell_type": "code",
   "execution_count": 3,
   "id": "96821397-7213-41e9-95d8-5a6e76646056",
   "metadata": {},
   "outputs": [
    {
     "name": "stdout",
     "output_type": "stream",
     "text": [
      "we are in parent class\n",
      "we are in 1st child class\n",
      "we are in 2nd child class\n",
      "we are in 3rd child class\n"
     ]
    }
   ],
   "source": [
    "class parent():\n",
    "    def a(self):\n",
    "        print(\"we are in parent class\")\n",
    "class child1(parent):\n",
    "    def b(self):\n",
    "        print(\"we are in 1st child class\")\n",
    "class child2(parent):\n",
    "    def c(self):\n",
    "        print(\"we are in 2nd child class\")\n",
    "class child3(parent):\n",
    "    def d(self):\n",
    "        print(\"we are in 3rd child class\")\n",
    "    \n",
    "o1=child1()\n",
    "o2=child2()\n",
    "o3=child3()\n",
    "o1.a()\n",
    "o1.b()\n",
    "o2.c()\n",
    "o3.d()"
   ]
  },
  {
   "cell_type": "code",
   "execution_count": 4,
   "id": "df25a962-0a39-40a0-9082-53e6461316b0",
   "metadata": {},
   "outputs": [
    {
     "name": "stdin",
     "output_type": "stream",
     "text": [
      " 10\n"
     ]
    },
    {
     "name": "stdout",
     "output_type": "stream",
     "text": [
      "0\n",
      "1\n",
      "2\n",
      "3\n",
      "4\n",
      "5\n",
      "6\n",
      "7\n",
      "8\n",
      "9\n",
      "10\n"
     ]
    }
   ],
   "source": [
    "n=int(input())\n",
    "s=0\n",
    "while(s<=n):\n",
    "    print(s)\n",
    "    s=s+1"
   ]
  },
  {
   "cell_type": "code",
   "execution_count": null,
   "id": "636eee6f-9937-41c3-b2cc-1c22fbbed954",
   "metadata": {},
   "outputs": [],
   "source": [
    "n=int(input())\n",
    "for i in range(1,n+1):\n",
    "    print(i)"
   ]
  }
 ],
 "metadata": {
  "kernelspec": {
   "display_name": "Python 3 (ipykernel)",
   "language": "python",
   "name": "python3"
  },
  "language_info": {
   "codemirror_mode": {
    "name": "ipython",
    "version": 3
   },
   "file_extension": ".py",
   "mimetype": "text/x-python",
   "name": "python",
   "nbconvert_exporter": "python",
   "pygments_lexer": "ipython3",
   "version": "3.11.7"
  }
 },
 "nbformat": 4,
 "nbformat_minor": 5
}
