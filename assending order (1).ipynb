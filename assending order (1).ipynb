{
 "cells": [
  {
   "cell_type": "code",
   "execution_count": 6,
   "id": "ab72a873-e99b-44de-a6d4-fd1393ee88c9",
   "metadata": {},
   "outputs": [
    {
     "name": "stdin",
     "output_type": "stream",
     "text": [
      " 5\n",
      " 2\n",
      " 3\n",
      " 1\n",
      " 4\n",
      " 6\n"
     ]
    },
    {
     "name": "stdout",
     "output_type": "stream",
     "text": [
      "1\n",
      "2\n",
      "3\n",
      "4\n",
      "6\n"
     ]
    }
   ],
   "source": [
    "n=int(input().strip())\n",
    "arr=[int(input().strip()) for i in range(n)]\n",
    "temp=0\n",
    "for i in range (0,n):\n",
    "    for j in range(i,n):\n",
    "        if(arr[i]>arr[j]):\n",
    "          temp=arr[i]\n",
    "          arr[i]=arr[j]\n",
    "          arr[j]=temp\n",
    "for i in range(0,n):\n",
    "    print(arr[i])"
   ]
  },
  {
   "cell_type": "code",
   "execution_count": 1,
   "id": "b4a3bfb5-3612-4313-8f5f-bf9fc7f5909c",
   "metadata": {},
   "outputs": [
    {
     "name": "stdin",
     "output_type": "stream",
     "text": [
      " 300\n",
      " 375\n",
      " 78\n",
      " 45\n"
     ]
    },
    {
     "name": "stdout",
     "output_type": "stream",
     "text": [
      "50\n",
      "7.3\n",
      "10.7\n",
      "7.5\n",
      "eligible to win\n"
     ]
    }
   ],
   "source": [
    "tb=int(input())\n",
    "tr=int(input())\n",
    "rs=int(input())\n",
    "bb=int(input())\n",
    "ttlov=tb//6\n",
    "cov=bb//6+(bb%6)*0.1\n",
    "crr=rs/cov\n",
    "trr=tr/ttlov\n",
    "print(ttlov)\n",
    "print(cov)\n",
    "print(\"{:.1f}\".format(crr))\n",
    "print(trr)\n",
    "if(crr>=trr):\n",
    "    print(\"eligible to win\")\n",
    "else:\n",
    "    print(\"not eligible to win\")"
   ]
  },
  {
   "cell_type": "code",
   "execution_count": 2,
   "id": "22d73ab6-60df-482d-908b-39d0cb6eacf6",
   "metadata": {},
   "outputs": [
    {
     "name": "stdin",
     "output_type": "stream",
     "text": [
      " 800\n"
     ]
    },
    {
     "name": "stdout",
     "output_type": "stream",
     "text": [
      "Rs: 1425.0\n"
     ]
    }
   ],
   "source": [
    "u=float(input())\n",
    "if(u<=200):\n",
    "    u=u*0.50\n",
    "    print(\"Rs:\",u)\n",
    "elif(u<=400):\n",
    "    u=(u*0.65)+100\n",
    "    print(\"Rs:\",u)\n",
    "elif(u<=600):\n",
    "    u=(u*0.80)+200\n",
    "    print(\"Rs:\",u)\n",
    "else:\n",
    "    u=(u*1.25)+425\n",
    "    print(\"Rs:\",u)"
   ]
  },
  {
   "cell_type": "code",
   "execution_count": 3,
   "id": "81bff04c-112c-49e7-a39a-f00d4a394a6d",
   "metadata": {},
   "outputs": [
    {
     "name": "stdout",
     "output_type": "stream",
     "text": [
      "I am form Sweden\n",
      "I am form India\n",
      "I am form Norway\n",
      "I am form Brazil\n"
     ]
    }
   ],
   "source": [
    "def my_function(country=\" Norway\"):\n",
    "    print(\"I am form\"+country)\n",
    "my_function (\" Sweden\")\n",
    "my_function(\" India\")\n",
    "my_function( )\n",
    "my_function(\" Brazil\")"
   ]
  },
  {
   "cell_type": "code",
   "execution_count": 4,
   "id": "031f797a-d516-4741-9e20-381f4ed81478",
   "metadata": {},
   "outputs": [
    {
     "name": "stdout",
     "output_type": "stream",
     "text": [
      "Emilrefsnes\n",
      "Tobiasrefsnes\n",
      "Linusrefsnes\n"
     ]
    }
   ],
   "source": [
    "def my_function(fname):\n",
    "    print(fname+\"refsnes\")\n",
    "my_function(\"Emil\")\n",
    "my_function(\"Tobias\")\n",
    "my_function(\"Linus\")"
   ]
  },
  {
   "cell_type": "code",
   "execution_count": 5,
   "id": "863f92f3-c9e4-4081-93ae-93b854b6e266",
   "metadata": {},
   "outputs": [
    {
     "name": "stdout",
     "output_type": "stream",
     "text": [
      "His last name is Dora\n"
     ]
    }
   ],
   "source": [
    "def my_function(**kid):\n",
    "    print(\"His last name is \"+ kid[\"lname\"])\n",
    "my_function(fname=\"Tobias\",lname=\"Dora\")"
   ]
  },
  {
   "cell_type": "code",
   "execution_count": 6,
   "id": "6ed1d356-f4c8-4682-b740-5e743d002b84",
   "metadata": {},
   "outputs": [
    {
     "name": "stdin",
     "output_type": "stream",
     "text": [
      " 6\n"
     ]
    },
    {
     "name": "stdout",
     "output_type": "stream",
     "text": [
      "6\n",
      "30\n",
      "120\n",
      "360\n",
      "720\n"
     ]
    }
   ],
   "source": [
    "m=int(input())\n",
    "c=1\n",
    "while(m>1):\n",
    "    c=c*m\n",
    "    m=m-1\n",
    "    sum=m+c\n",
    "    print(c)"
   ]
  },
  {
   "cell_type": "code",
   "execution_count": null,
   "id": "9124ac8f-c666-4b06-a36c-b6829239b4e4",
   "metadata": {},
   "outputs": [],
   "source": []
  }
 ],
 "metadata": {
  "kernelspec": {
   "display_name": "Python 3 (ipykernel)",
   "language": "python",
   "name": "python3"
  },
  "language_info": {
   "codemirror_mode": {
    "name": "ipython",
    "version": 3
   },
   "file_extension": ".py",
   "mimetype": "text/x-python",
   "name": "python",
   "nbconvert_exporter": "python",
   "pygments_lexer": "ipython3",
   "version": "3.11.7"
  }
 },
 "nbformat": 4,
 "nbformat_minor": 5
}
