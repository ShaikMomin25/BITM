{
 "cells": [
  {
   "cell_type": "code",
   "execution_count": 1,
   "id": "c3b15749-0dca-48d7-9c7d-508f925244db",
   "metadata": {},
   "outputs": [
    {
     "name": "stdin",
     "output_type": "stream",
     "text": [
      " 9\n",
      " 8\n"
     ]
    },
    {
     "name": "stdout",
     "output_type": "stream",
     "text": [
      "8\n",
      "9\n"
     ]
    }
   ],
   "source": [
    "a=int(input())\n",
    "b=int(input())\n",
    "c=0\n",
    "c=a\n",
    "a=b\n",
    "b=c\n",
    "print(a)\n",
    "print(b)\n",
    "\n"
   ]
  },
  {
   "cell_type": "code",
   "execution_count": 2,
   "id": "1fe3020b-b83e-4dc5-8146-ff36070b4e02",
   "metadata": {},
   "outputs": [
    {
     "name": "stdout",
     "output_type": "stream",
     "text": [
      "x= 10\n",
      "y= 5\n"
     ]
    }
   ],
   "source": [
    "x=5\n",
    "y=10\n",
    "x,y=y,x\n",
    "print(\"x=\",x)\n",
    "print(\"y=\",y)"
   ]
  },
  {
   "cell_type": "code",
   "execution_count": 4,
   "id": "e6c29b64-1647-46b6-bd6d-e9554d1a2152",
   "metadata": {},
   "outputs": [
    {
     "name": "stdin",
     "output_type": "stream",
     "text": [
      " 2\n",
      " 3\n",
      " 4\n"
     ]
    },
    {
     "name": "stdout",
     "output_type": "stream",
     "text": [
      "largest is  4\n"
     ]
    }
   ],
   "source": [
    "a=int(input())\n",
    "b=int(input())\n",
    "c=int(input())\n",
    "if(a>b and a>c):\n",
    "    print(\"largest is\",a)\n",
    "elif(b>a and b>c):\n",
    "    print(\"largest is\",b)\n",
    "else:\n",
    "    print( \"largest is \",c)\n"
   ]
  },
  {
   "cell_type": "code",
   "execution_count": 1,
   "id": "629cd84d-c22f-4853-bb82-ca55e6fab320",
   "metadata": {},
   "outputs": [
    {
     "name": "stdin",
     "output_type": "stream",
     "text": [
      " 1\n",
      " 1\n",
      " 6\n"
     ]
    },
    {
     "name": "stdout",
     "output_type": "stream",
     "text": [
      "Dora's property\n"
     ]
    }
   ],
   "source": [
    "rs=int(input())\n",
    "cs=int(input())\n",
    "tn=int(input())\n",
    "if(tn<=(rs*cs)):\n",
    "    if(tn<=cs or tn%cs==1 or tn%cs==0):\n",
    "        print(\"yes it amango tree\")\n",
    "    else:\n",
    "        print(\"not a mango tree\")\n",
    "else:\n",
    "    print(\"Dora's property\")"
   ]
  },
  {
   "cell_type": "code",
   "execution_count": 2,
   "id": "9d945373-aac7-4b3c-ad8c-6741274fda43",
   "metadata": {},
   "outputs": [
    {
     "name": "stdin",
     "output_type": "stream",
     "text": [
      " 5\n",
      " 6\n"
     ]
    },
    {
     "name": "stdout",
     "output_type": "stream",
     "text": [
      "the maximum number is 6\n"
     ]
    }
   ],
   "source": [
    "a=int(input())\n",
    "b=int(input())\n",
    "if(a>=b):\n",
    "    print(\"the maximum number is\",a)\n",
    "else:\n",
    "    print(\"the maximum number is\",b)"
   ]
  },
  {
   "cell_type": "code",
   "execution_count": 3,
   "id": "1ae65626-e29f-4188-9c85-25805f8df04d",
   "metadata": {},
   "outputs": [
    {
     "name": "stdout",
     "output_type": "stream",
     "text": [
      "we are in grand father class\n",
      "we are in dad's class\n",
      "we are in son's class\n"
     ]
    }
   ],
   "source": [
    "class grandfather:\n",
    "    def grand(self):\n",
    "        print(\"we are in grand father class\")\n",
    "class father(grandfather):\n",
    "    def dad(self):\n",
    "        print(\"we are in dad's class\")\n",
    "class child(father):\n",
    "    def son(self):\n",
    "        print(\"we are in son's class\")\n",
    "o=child()\n",
    "o.grand()\n",
    "o.dad()\n",
    "o.son()"
   ]
  },
  {
   "cell_type": "code",
   "execution_count": 4,
   "id": "b392ef43-7491-4c73-9053-c2582e0cddad",
   "metadata": {},
   "outputs": [
    {
     "name": "stdout",
     "output_type": "stream",
     "text": [
      "inside grandchild\n",
      "inside grandchild\n"
     ]
    }
   ],
   "source": [
    "class parent():\n",
    "    def show(self):\n",
    "        print(\"inside parent\")\n",
    "class child(parent):\n",
    "    def show(self):\n",
    "        print(\"inside child\")\n",
    "class grandchild(child):\n",
    "    def show(self):\n",
    "        print(\"inside grandchild\")\n",
    "g=grandchild()\n",
    "g.show()\n",
    "g.show()"
   ]
  },
  {
   "cell_type": "code",
   "execution_count": 5,
   "id": "047bd448-9936-41aa-9a7b-68ec61ab657f",
   "metadata": {},
   "outputs": [
    {
     "name": "stdout",
     "output_type": "stream",
     "text": [
      "12\n",
      "17.204\n"
     ]
    }
   ],
   "source": [
    "def product(first ,second, third):\n",
    "    result= first * second * third\n",
    "    print(result)\n",
    "def product(first, second, third):\n",
    "    result= first * second * third\n",
    "    print(result)\n",
    "product(2,3,2)\n",
    "product(2.2,3.4,2.3)"
   ]
  },
  {
   "cell_type": "code",
   "execution_count": null,
   "id": "bffff1ca-c52e-466a-82af-423e4bf13cf8",
   "metadata": {},
   "outputs": [],
   "source": []
  }
 ],
 "metadata": {
  "kernelspec": {
   "display_name": "Python 3 (ipykernel)",
   "language": "python",
   "name": "python3"
  },
  "language_info": {
   "codemirror_mode": {
    "name": "ipython",
    "version": 3
   },
   "file_extension": ".py",
   "mimetype": "text/x-python",
   "name": "python",
   "nbconvert_exporter": "python",
   "pygments_lexer": "ipython3",
   "version": "3.11.7"
  }
 },
 "nbformat": 4,
 "nbformat_minor": 5
}
