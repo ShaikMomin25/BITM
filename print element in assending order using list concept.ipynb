{
 "cells": [
  {
   "cell_type": "code",
   "execution_count": 2,
   "id": "9e2dd14b-b3de-4896-92e4-2711db60f7c9",
   "metadata": {},
   "outputs": [
    {
     "name": "stdin",
     "output_type": "stream",
     "text": [
      " 5\n",
      " 2\n",
      " 3\n",
      " 1\n",
      " 4\n",
      " 5\n"
     ]
    },
    {
     "name": "stdout",
     "output_type": "stream",
     "text": [
      "[2, 3, 1, 4, 5]\n"
     ]
    }
   ],
   "source": [
    "\n",
    "n=int(input().strip())\n",
    "arr=[int(input().strip()) for i in range(n)]\n",
    "print(arr)"
   ]
  },
  {
   "cell_type": "code",
   "execution_count": 1,
   "id": "dc883760-de16-4da5-a8d6-9277b750200d",
   "metadata": {},
   "outputs": [
    {
     "name": "stdout",
     "output_type": "stream",
     "text": [
      "3\n"
     ]
    }
   ],
   "source": [
    "def my_function(x,/):\n",
    "    print(x)\n",
    "my_function(3)"
   ]
  },
  {
   "cell_type": "code",
   "execution_count": 2,
   "id": "a132cb10-2262-4903-b218-26f3f18aeac0",
   "metadata": {},
   "outputs": [
    {
     "name": "stdin",
     "output_type": "stream",
     "text": [
      " 689\n"
     ]
    },
    {
     "name": "stdout",
     "output_type": "stream",
     "text": [
      "986\n"
     ]
    }
   ],
   "source": [
    "n=int(input())\n",
    "f=n//100\n",
    "s=(n%100)//10\n",
    "l=n%10\n",
    "rev=l*100+s*10+f\n",
    "print(rev)\n"
   ]
  },
  {
   "cell_type": "code",
   "execution_count": 3,
   "id": "e23462a6-35bf-4913-99e5-c33f3c76a5a6",
   "metadata": {},
   "outputs": [
    {
     "name": "stdin",
     "output_type": "stream",
     "text": [
      " 30\n",
      " 10\n",
      " 140\n",
      " 99\n"
     ]
    },
    {
     "name": "stdout",
     "output_type": "stream",
     "text": [
      "171\n",
      "9\n"
     ]
    }
   ],
   "source": [
    "d1=int(input())\n",
    "c1=int(input())\n",
    "d2=int(input())\n",
    "c2=int(input())\n",
    "td=(d1+d2)+(c1+c2)//100\n",
    "rc=(c1+c2)%100\n",
    "print(td)\n",
    "print(rc)\n"
   ]
  },
  {
   "cell_type": "code",
   "execution_count": 5,
   "id": "7df544fa-4773-4f13-8271-b6521516ad9e",
   "metadata": {},
   "outputs": [
    {
     "ename": "SyntaxError",
     "evalue": "invalid syntax (3482998779.py, line 5)",
     "output_type": "error",
     "traceback": [
      "\u001b[1;36m  Cell \u001b[1;32mIn[5], line 5\u001b[1;36m\u001b[0m\n\u001b[1;33m    y2=int(input())xz+`\u001b[0m\n\u001b[1;37m                   ^\u001b[0m\n\u001b[1;31mSyntaxError\u001b[0m\u001b[1;31m:\u001b[0m invalid syntax\n"
     ]
    }
   ],
   "source": [
    "import math\n",
    "x1=3\n",
    "y1=4\n",
    "x2=int(input())\n",
    "y2=int(input())xz+`\n",
    "print(int(math.sqrt(((x2-x1)*(x2-x1))+((y2-y1)*(y2-y1)))))"
   ]
  },
  {
   "cell_type": "code",
   "execution_count": null,
   "id": "8e9fcf8e-1f67-47a3-a9a5-8e084c128de6",
   "metadata": {},
   "outputs": [],
   "source": []
  }
 ],
 "metadata": {
  "kernelspec": {
   "display_name": "Python 3 (ipykernel)",
   "language": "python",
   "name": "python3"
  },
  "language_info": {
   "codemirror_mode": {
    "name": "ipython",
    "version": 3
   },
   "file_extension": ".py",
   "mimetype": "text/x-python",
   "name": "python",
   "nbconvert_exporter": "python",
   "pygments_lexer": "ipython3",
   "version": "3.11.7"
  }
 },
 "nbformat": 4,
 "nbformat_minor": 5
}
