{
 "cells": [
  {
   "cell_type": "code",
   "execution_count": 5,
   "id": "15a354ff-3375-480c-a16d-c8ae30f3a6f8",
   "metadata": {},
   "outputs": [
    {
     "name": "stdin",
     "output_type": "stream",
     "text": [
      " 7\n",
      " 44\n",
      " 33\n",
      " 9\n",
      " 44\n",
      " 12\n"
     ]
    },
    {
     "name": "stdout",
     "output_type": "stream",
     "text": [
      "17 : 28 : 45\n"
     ]
    }
   ],
   "source": [
    "h1=int(input())\n",
    "m1=int(input())\n",
    "s1=int(input())\n",
    "h2=int(input())\n",
    "m2=int(input())\n",
    "s2=int(input())\n",
    "class clock :\n",
    "    def time(self,th,tm,ts):\n",
    "        self.th=th\n",
    "        self.tm=tm\n",
    "        self.ts=ts\n",
    "        print(th,\":\",tm,\":\",ts)\n",
    "th=(h1+h2)+((m1+m2)+(s1+s2)//60)//60\n",
    "tm=((m1+m2)+(s1+s2)//60)%60\n",
    "ts=(s1+s2)%60\n",
    "obj=clock()\n",
    "obj.time(th,tm,ts)\n"
   ]
  }
 ],
 "metadata": {
  "kernelspec": {
   "display_name": "Python 3 (ipykernel)",
   "language": "python",
   "name": "python3"
  },
  "language_info": {
   "codemirror_mode": {
    "name": "ipython",
    "version": 3
   },
   "file_extension": ".py",
   "mimetype": "text/x-python",
   "name": "python",
   "nbconvert_exporter": "python",
   "pygments_lexer": "ipython3",
   "version": "3.11.7"
  }
 },
 "nbformat": 4,
 "nbformat_minor": 5
}
