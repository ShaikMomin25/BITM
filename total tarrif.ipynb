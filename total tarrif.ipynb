{
 "cells": [
  {
   "cell_type": "code",
   "execution_count": 2,
   "id": "72352308-951b-4e22-bb2a-b2fa97f886a0",
   "metadata": {},
   "outputs": [
    {
     "name": "stdin",
     "output_type": "stream",
     "text": [
      " 4\n",
      " 5000\n",
      " 5\n"
     ]
    },
    {
     "name": "stdout",
     "output_type": "stream",
     "text": [
      "30000\n"
     ]
    }
   ],
   "source": [
    "m=int(input())\n",
    "r=int(input())\n",
    "nd=int(input())\n",
    "if (m==4 or m==5 or m==6 or m==7 or m==11 or m==12):\n",
    "    ttl=(r*nd)+(r*nd)*20//100\n",
    "    print(ttl)\n",
    "else:\n",
    "    print(r*nd)\n"
   ]
  },
  {
   "cell_type": "code",
   "execution_count": null,
   "id": "013ee146-14b3-41a6-a4d6-19bf9edad23d",
   "metadata": {},
   "outputs": [],
   "source": []
  }
 ],
 "metadata": {
  "kernelspec": {
   "display_name": "Python 3 (ipykernel)",
   "language": "python",
   "name": "python3"
  },
  "language_info": {
   "codemirror_mode": {
    "name": "ipython",
    "version": 3
   },
   "file_extension": ".py",
   "mimetype": "text/x-python",
   "name": "python",
   "nbconvert_exporter": "python",
   "pygments_lexer": "ipython3",
   "version": "3.11.7"
  }
 },
 "nbformat": 4,
 "nbformat_minor": 5
}
